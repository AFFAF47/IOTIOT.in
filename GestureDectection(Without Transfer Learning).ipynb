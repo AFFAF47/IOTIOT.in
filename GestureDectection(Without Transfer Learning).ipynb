{
  "nbformat": 4,
  "nbformat_minor": 0,
  "metadata": {
    "colab": {
      "name": "GestureDectection.ipynb",
      "provenance": [],
      "collapsed_sections": []
    },
    "kernelspec": {
      "name": "python3",
      "display_name": "Python 3"
    },
    "accelerator": "GPU"
  },
  "cells": [
    {
      "cell_type": "code",
      "metadata": {
        "id": "jB2S3KdXm-N1"
      },
      "source": [
        "import numpy as np\n",
        "import pandas as pd\n",
        "import tensorflow as tf\n",
        "from tensorflow import keras\n",
        "from tensorflow.keras.preprocessing import image\n",
        "from tensorflow.keras.preprocessing.image import ImageDataGenerator\n",
        "import matplotlib.pyplot as plt\n",
        "%matplotlib inline"
      ],
      "execution_count": 7,
      "outputs": []
    },
    {
      "cell_type": "code",
      "metadata": {
        "id": "uUxm7886nU-d",
        "outputId": "ab1485af-7f18-4e13-eb1c-de57a506d481",
        "colab": {
          "base_uri": "https://localhost:8080/",
          "height": 51
        }
      },
      "source": [
        "train_gen = ImageDataGenerator(rescale = 1./255)\n",
        "\n",
        "train_data = train_gen.flow_from_directory('/content/drive/My Drive/Internship/Train1', target_size = (28, 28), color_mode = 'grayscale', class_mode = 'categorical')\n",
        "\n",
        "test_gen = ImageDataGenerator(rescale = 1./255)\n",
        "\n",
        "test_data = test_gen.flow_from_directory('/content/drive/My Drive/Internship/Test2', target_size = (28, 28), color_mode = 'grayscale', class_mode = 'categorical')"
      ],
      "execution_count": 2,
      "outputs": [
        {
          "output_type": "stream",
          "text": [
            "Found 2000 images belonging to 10 classes.\n",
            "Found 1010 images belonging to 10 classes.\n"
          ],
          "name": "stdout"
        }
      ]
    },
    {
      "cell_type": "code",
      "metadata": {
        "id": "ip7vE_uInjrG"
      },
      "source": [
        "model = tf.keras.Sequential([\n",
        "    tf.keras.layers.Conv2D(32, (3,3), activation = 'relu', input_shape = (28, 28, 1)),\n",
        "    tf.keras.layers.MaxPooling2D(2, 2),\n",
        "    tf.keras.layers.Conv2D(32, (3,3), activation = 'relu'),\n",
        "    tf.keras.layers.MaxPooling2D(2, 2),\n",
        "    tf.keras.layers.Flatten(),\n",
        "    tf.keras.layers.Dense(164, activation = 'relu'),\n",
        "    tf.keras.layers.Dense(10, activation = 'softmax')\n",
        "])\n",
        "\n",
        "model.compile(optimizer = 'adam', loss = 'categorical_crossentropy', metrics = ['accuracy'])"
      ],
      "execution_count": 3,
      "outputs": []
    },
    {
      "cell_type": "code",
      "metadata": {
        "id": "1gfVmJLQnsJG",
        "outputId": "596d2271-34e3-4227-8f41-b024d8a8edf1",
        "colab": {
          "base_uri": "https://localhost:8080/",
          "height": 357
        }
      },
      "source": [
        "history = model.fit(train_data, epochs = 10, validation_data= test_data)"
      ],
      "execution_count": 4,
      "outputs": [
        {
          "output_type": "stream",
          "text": [
            "Epoch 1/10\n",
            "63/63 [==============================] - 1737s 28s/step - loss: 1.4952 - accuracy: 0.5620 - val_loss: 4.9102 - val_accuracy: 0.3970\n",
            "Epoch 2/10\n",
            "63/63 [==============================] - 7s 113ms/step - loss: 0.1489 - accuracy: 0.9800 - val_loss: 10.1751 - val_accuracy: 0.2733\n",
            "Epoch 3/10\n",
            "63/63 [==============================] - 7s 110ms/step - loss: 0.0193 - accuracy: 0.9995 - val_loss: 12.7118 - val_accuracy: 0.3198\n",
            "Epoch 4/10\n",
            "63/63 [==============================] - 7s 110ms/step - loss: 0.0072 - accuracy: 1.0000 - val_loss: 13.8447 - val_accuracy: 0.3257\n",
            "Epoch 5/10\n",
            "63/63 [==============================] - 7s 111ms/step - loss: 0.0043 - accuracy: 1.0000 - val_loss: 14.6950 - val_accuracy: 0.3257\n",
            "Epoch 6/10\n",
            "63/63 [==============================] - 7s 109ms/step - loss: 0.0030 - accuracy: 1.0000 - val_loss: 15.4776 - val_accuracy: 0.3248\n",
            "Epoch 7/10\n",
            "63/63 [==============================] - 7s 110ms/step - loss: 0.0021 - accuracy: 1.0000 - val_loss: 16.0362 - val_accuracy: 0.3257\n",
            "Epoch 8/10\n",
            "63/63 [==============================] - 7s 109ms/step - loss: 0.0014 - accuracy: 1.0000 - val_loss: 16.7291 - val_accuracy: 0.3238\n",
            "Epoch 9/10\n",
            "63/63 [==============================] - 7s 109ms/step - loss: 0.0012 - accuracy: 1.0000 - val_loss: 16.9689 - val_accuracy: 0.3277\n",
            "Epoch 10/10\n",
            "63/63 [==============================] - 7s 109ms/step - loss: 9.0083e-04 - accuracy: 1.0000 - val_loss: 18.2787 - val_accuracy: 0.3129\n"
          ],
          "name": "stdout"
        }
      ]
    },
    {
      "cell_type": "code",
      "metadata": {
        "id": "o6HpoE-Uuaqj"
      },
      "source": [
        "model.save('/content/drive/My Drive/Internship/gesture.h5')"
      ],
      "execution_count": 5,
      "outputs": []
    },
    {
      "cell_type": "code",
      "metadata": {
        "id": "U3Lk215yvWOq"
      },
      "source": [
        "img = image.load_img('/content/drive/My Drive/Internship/frame_09_01_0001.png', target_size = (28, 28), color_mode='grayscale')\n",
        "img = image.img_to_array(img)\n",
        "img = np.expand_dims(img, axis = 0)\n",
        "res = model.predict(img)"
      ],
      "execution_count": 9,
      "outputs": []
    },
    {
      "cell_type": "code",
      "metadata": {
        "id": "uthCe_xrw2Lr",
        "outputId": "ec10fd46-2579-4bc9-87d5-5d09c19762eb",
        "colab": {
          "base_uri": "https://localhost:8080/",
          "height": 51
        }
      },
      "source": [
        "print(train_data.class_indices)\n",
        "result = train_data.class_indices\n",
        "print(res)"
      ],
      "execution_count": 30,
      "outputs": [
        {
          "output_type": "stream",
          "text": [
            "{'01_palm': 0, '02_l': 1, '03_fist': 2, '04_fist_moved': 3, '05_thumb': 4, '06_index': 5, '07_ok': 6, '08_palm_moved': 7, '09_c': 8, '10_down': 9}\n",
            "[[0. 0. 0. 1. 0. 0. 0. 0. 0. 0.]]\n"
          ],
          "name": "stdout"
        }
      ]
    },
    {
      "cell_type": "code",
      "metadata": {
        "id": "kakoVdd1xDyV",
        "outputId": "632135ad-54db-4abe-8203-f0503b095145",
        "colab": {
          "base_uri": "https://localhost:8080/",
          "height": 51
        }
      },
      "source": [
        "boolarr = (res == 1)\n",
        "print(boolarr)\n",
        "a = np.where(boolarr)\n",
        "a = list(a)\n",
        "print(*a[1])"
      ],
      "execution_count": 31,
      "outputs": [
        {
          "output_type": "stream",
          "text": [
            "[[False False False  True False False False False False False]]\n",
            "3\n"
          ],
          "name": "stdout"
        }
      ]
    },
    {
      "cell_type": "code",
      "metadata": {
        "id": "FQ5bK39e0te-"
      },
      "source": [
        "def get_key(val): \n",
        "    for key, value in result.items(): \n",
        "         if val == value: \n",
        "             return key \n",
        "  \n",
        "    return \"key doesn't exist\""
      ],
      "execution_count": 44,
      "outputs": []
    },
    {
      "cell_type": "code",
      "metadata": {
        "id": "W4pwc4nJzFo_",
        "outputId": "014b21ca-4b34-4778-8d0d-43bb155db11c",
        "colab": {
          "base_uri": "https://localhost:8080/",
          "height": 51
        }
      },
      "source": [
        "b = int(a[1])\n",
        "print(b)\n",
        "for i in range(10):\n",
        "  if(i == b):\n",
        "    print(get_key(b))"
      ],
      "execution_count": 48,
      "outputs": [
        {
          "output_type": "stream",
          "text": [
            "3\n",
            "04_fist_moved\n"
          ],
          "name": "stdout"
        }
      ]
    }
  ]
}
